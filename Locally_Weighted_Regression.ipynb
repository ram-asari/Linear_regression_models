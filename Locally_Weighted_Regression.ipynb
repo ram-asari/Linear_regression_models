{
 "cells": [
  {
   "cell_type": "markdown",
   "metadata": {},
   "source": [
    "### Locally weighted regression using normal equation with regularization"
   ]
  },
  {
   "cell_type": "code",
   "execution_count": 329,
   "metadata": {},
   "outputs": [],
   "source": [
    "import numpy as np\n",
    "import pandas as pd\n",
    "import seaborn as sns\n",
    "import matplotlib.pyplot as plt\n",
    "import math\n",
    "\n",
    "\n",
    "input_data = pd.read_csv('/home/ram/data_sets/ML/Housing Price data set.csv')\n",
    "input_data.replace(to_replace=['yes', 'no'], value=[1, 0], inplace=True)\n",
    "# print(input_data.columns)"
   ]
  },
  {
   "cell_type": "code",
   "execution_count": 330,
   "metadata": {},
   "outputs": [],
   "source": [
    "X = pd.DataFrame(input_data[['lotsize']])\n",
    "M = int(len(X)) \n",
    "no_of_features = len(X.columns)\n",
    "X_org = X.values.reshape(M, no_of_features)\n",
    "y = np.array(input_data['price']).reshape(M, 1)\n",
    "# print(X)\n",
    "\n",
    "#normalization\n",
    "norms_x = np.linalg.norm(X_org, axis=0)\n",
    "X = pd.DataFrame(X_org)\n",
    "# print(X)\n",
    "X0 = np.ones(len(input_data)) # constant vector for intecept\n",
    "X.insert(0, \"X0\", X0, True) \n",
    "no_of_features = len(X.columns)\n",
    "no_of_features\n",
    "\n",
    "from sklearn.utils import shuffle\n",
    "from sklearn.model_selection import train_test_split\n",
    "X_train, X_test, y_train, y_test = train_test_split(X, y, train_size = 0.5,random_state = 101)\n",
    "X_test = X_test[0]\n"
   ]
  },
  {
   "cell_type": "code",
   "execution_count": 348,
   "metadata": {},
   "outputs": [
    {
     "name": "stdout",
     "output_type": "stream",
     "text": [
      "Accuracy:  31.055854848069863\n",
      "error:  21771.761013383486\n"
     ]
    }
   ],
   "source": [
    "\n",
    "t = 0.005 #tau to be used in finding gama\n",
    "lamda = 1e0 #regularization parameter\n",
    "\n",
    "def find_gama(x, X, tau):\n",
    "    gama = np.eye(len(X), len(X))\n",
    "    i = 0\n",
    "    for xi in X:\n",
    "        gi = math.exp( -((xi - x) **2) / 2 * (tau **2) )\n",
    "        gama[i][i] = gama[i][i] * gi\n",
    "#         print(gama[i][i])\n",
    "        i += 1\n",
    "    return gama\n",
    "\n",
    "#normal equation with regularization => W = (X.T * gama * X + lambda)^-1 * (X.T * gama * y)\n",
    "# x = int(input())\n",
    "Yi = []\n",
    "W = 0\n",
    "for x in X_test:\n",
    "    gama = find_gama(x, X_train[0], t)\n",
    "    XT_gama = X_train.T @ gama\n",
    "    lamda_mat = np.zeros([no_of_features,no_of_features],dtype = float)\n",
    "\n",
    "    for i in range(no_of_features):\n",
    "        if i != 0:\n",
    "            lamda_mat[i][i] = lamda\n",
    "#     print(np.dot(XT_gama , X_train))\n",
    "    W = np.linalg.pinv(np.add(np.dot(XT_gama , X_train), lamda_mat)) @ (XT_gama @ y_train)\n",
    "    Yi.append(W[0][0] + W[0][1]*x)\n",
    "\n",
    "from sklearn.metrics import r2_score\n",
    "print(\"Accuracy: \",float(r2_score(y_test, Yi)) * 100, end='\\n')\n",
    "\n",
    "from sklearn.metrics import mean_squared_error\n",
    "print(\"error: \", math.sqrt(mean_squared_error(y_test, Yi)))\n"
   ]
  },
  {
   "cell_type": "code",
   "execution_count": 332,
   "metadata": {},
   "outputs": [
    {
     "data": {
      "text/plain": [
       "Text(0.5, 1.0, 'Line of Regression')"
      ]
     },
     "execution_count": 332,
     "metadata": {},
     "output_type": "execute_result"
    },
    {
     "data": {
      "image/png": "[encoded data removed]",
      "text/plain": [
       "<Figure size 432x288 with 1 Axes>"
      ]
     },
     "metadata": {
      "needs_background": "light"
     },
     "output_type": "display_data"
    }
   ],
   "source": [
    "res = pd.DataFrame(zip(X_test, Yi))\n",
    "res = res.sort_values(0)\n",
    "res.rename(columns={0:'x', 1:'y'}, inplace=True)\n",
    "# plt.scatter(X_train[0], y_train)\n",
    "plt.plot(res['x'],res['y'], color = 'green')\n",
    "plt.title(\"Line of Regression\")"
   ]
  }
 ],
 "metadata": {
  "kernelspec": {
   "display_name": "Python 3",
   "language": "python",
   "name": "python3"
  },
  "language_info": {
   "codemirror_mode": {
    "name": "ipython",
    "version": 3
   },
   "file_extension": ".py",
   "mimetype": "text/x-python",
   "name": "python",
   "nbconvert_exporter": "python",
   "pygments_lexer": "ipython3",
   "version": "3.7.3"
  }
 },
 "nbformat": 4,
 "nbformat_minor": 4
}
